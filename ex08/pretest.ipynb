{
 "cells": [
  {
   "cell_type": "code",
   "execution_count": 1,
   "id": "6e079f84-944e-43c7-b426-3a491b99820b",
   "metadata": {},
   "outputs": [
    {
     "name": "stdout",
     "output_type": "stream",
     "text": [
      "偏回帰係数 (傾き): 3.93\n",
      "切片: -17.58\n",
      "自由度調整済み決定係数: 0.64\n"
     ]
    }
   ],
   "source": [
    "import pandas as pd\n",
    "\n",
    "# データを読み込む\n",
    "data = pd.read_csv(\"cars.csv\")\n",
    "\n",
    "# 説明変数と目的変数を選択\n",
    "speed = data['speed']\n",
    "dist = data['dist']\n",
    "\n",
    "# 線形単回帰分析を行う\n",
    "from sklearn.linear_model import LinearRegression\n",
    "\n",
    "# モデルを作成\n",
    "model = LinearRegression()\n",
    "\n",
    "# 説明変数と目的変数を渡して学習\n",
    "model.fit(speed.values.reshape(-1, 1), dist)\n",
    "\n",
    "# 偏回帰係数と切片を取得\n",
    "coef = model.coef_[0]\n",
    "intercept = model.intercept_\n",
    "\n",
    "# 自由度調整済み決定係数を計算\n",
    "from sklearn.metrics import r2_score\n",
    "n = len(speed)\n",
    "adjusted_r2 = 1 - (1 - r2_score(dist, model.predict(speed.values.reshape(-1, 1)))) * (n - 1) / (n - 2)\n",
    "\n",
    "# 結果を表示\n",
    "print(\"偏回帰係数 (傾き):\", round(coef, 2))\n",
    "print(\"切片:\", round(intercept, 2))\n",
    "print(\"自由度調整済み決定係数:\", round(adjusted_r2, 2))\n"
   ]
  },
  {
   "cell_type": "code",
   "execution_count": null,
   "id": "d7c4e49c-d810-4621-a8f1-e7463238e81d",
   "metadata": {},
   "outputs": [],
   "source": []
  }
 ],
 "metadata": {
  "kernelspec": {
   "display_name": "Python 3 (ipykernel)",
   "language": "python",
   "name": "python3"
  },
  "language_info": {
   "codemirror_mode": {
    "name": "ipython",
    "version": 3
   },
   "file_extension": ".py",
   "mimetype": "text/x-python",
   "name": "python",
   "nbconvert_exporter": "python",
   "pygments_lexer": "ipython3",
   "version": "3.8.16"
  }
 },
 "nbformat": 4,
 "nbformat_minor": 5
}
