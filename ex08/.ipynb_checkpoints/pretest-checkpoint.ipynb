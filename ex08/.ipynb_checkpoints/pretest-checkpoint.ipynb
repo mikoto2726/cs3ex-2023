{
 "cells": [
  {
   "cell_type": "code",
   "execution_count": null,
   "id": "47f8fc95-a970-4b65-b24c-06a5ca6fd81f",
   "metadata": {},
   "outputs": [],
   "source": [
    "import pandas as pd\n",
    "csv_in='cars.csv'\n",
    "df=pd.read_csv(csv_in, skiprows=0, header=0)\n",
    "print(df.shape)\n",
    "print(df.info())\n",
    "display(df.head())"
   ]
  }
 ],
 "metadata": {
  "kernelspec": {
   "display_name": "Python 3 (ipykernel)",
   "language": "python",
   "name": "python3"
  },
  "language_info": {
   "codemirror_mode": {
    "name": "ipython",
    "version": 3
   },
   "file_extension": ".py",
   "mimetype": "text/x-python",
   "name": "python",
   "nbconvert_exporter": "python",
   "pygments_lexer": "ipython3",
   "version": "3.8.16"
  }
 },
 "nbformat": 4,
 "nbformat_minor": 5
}
