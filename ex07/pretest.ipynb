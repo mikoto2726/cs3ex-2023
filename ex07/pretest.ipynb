{
 "cells": [
  {
   "cell_type": "code",
   "execution_count": 2,
   "id": "2b097aae-8abf-49b5-96b7-c51e4adbf5a2",
   "metadata": {},
   "outputs": [],
   "source": [
    "import pandas as pd\n",
    "csv_in1=\"name.csv\"\n",
    "csv_in2=\"mail.csv\"\n",
    "df_name=pd.read_csv(csv_in1, skiprows=0, header=0)\n",
    "df_mail=pd.read_csv(csv_in2, skiprows=0, header=0)\n",
    "df_merge1=df_name.merge(df_mail, left_on=\"studentID\", right_on=\"ID\", how=\"outer\")\n",
    "df_merge2=df_name.merge(df_mail, left_on='studentID', right_on='ID', how='inner')"
   ]
  },
  {
   "cell_type": "code",
   "execution_count": 3,
   "id": "48e44637-89c7-48a7-be2d-9750a07cdfe7",
   "metadata": {},
   "outputs": [
    {
     "name": "stdout",
     "output_type": "stream",
     "text": [
      "(11, 4)\n"
     ]
    }
   ],
   "source": [
    "print(df_merge1.shape)"
   ]
  },
  {
   "cell_type": "code",
   "execution_count": 4,
   "id": "d9d06c9d-b85b-4170-9f8d-3edcb6c5ecac",
   "metadata": {},
   "outputs": [
    {
     "name": "stdout",
     "output_type": "stream",
     "text": [
      "(7, 4)\n"
     ]
    }
   ],
   "source": [
    "print(df_merge2.shape)"
   ]
  },
  {
   "cell_type": "code",
   "execution_count": null,
   "id": "9eb60665-9ac4-409d-a3d1-2ff74cda5648",
   "metadata": {},
   "outputs": [],
   "source": []
  }
 ],
 "metadata": {
  "kernelspec": {
   "display_name": "Python 3 (ipykernel)",
   "language": "python",
   "name": "python3"
  },
  "language_info": {
   "codemirror_mode": {
    "name": "ipython",
    "version": 3
   },
   "file_extension": ".py",
   "mimetype": "text/x-python",
   "name": "python",
   "nbconvert_exporter": "python",
   "pygments_lexer": "ipython3",
   "version": "3.8.16"
  }
 },
 "nbformat": 4,
 "nbformat_minor": 5
}
