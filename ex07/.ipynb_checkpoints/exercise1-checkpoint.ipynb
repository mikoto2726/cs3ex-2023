{
 "cells": [
  {
   "cell_type": "code",
   "execution_count": 2,
   "id": "a4927da7-32ad-4c67-a5f2-96f3e2fad543",
   "metadata": {},
   "outputs": [
    {
     "name": "stdout",
     "output_type": "stream",
     "text": [
      "(48, 9)\n",
      "<class 'pandas.core.frame.DataFrame'>\n",
      "RangeIndex: 48 entries, 0 to 47\n",
      "Data columns (total 9 columns):\n",
      " #   Column      Non-Null Count  Dtype\n",
      "---  ------      --------------  -----\n",
      " 0   Date        48 non-null     int64\n",
      " 1   NIKKEI      48 non-null     int64\n",
      " 2   HITACHI     48 non-null     int64\n",
      " 3   TOSHIBA     48 non-null     int64\n",
      " 4   MITSUBISHI  48 non-null     int64\n",
      " 5   NEC         48 non-null     int64\n",
      " 6   FUJITSU     48 non-null     int64\n",
      " 7   PANASONIC   48 non-null     int64\n",
      " 8   SONY        48 non-null     int64\n",
      "dtypes: int64(9)\n",
      "memory usage: 3.5 KB\n",
      "None\n"
     ]
    },
    {
     "data": {
      "text/html": [
       "<div>\n",
       "<style scoped>\n",
       "    .dataframe tbody tr th:only-of-type {\n",
       "        vertical-align: middle;\n",
       "    }\n",
       "\n",
       "    .dataframe tbody tr th {\n",
       "        vertical-align: top;\n",
       "    }\n",
       "\n",
       "    .dataframe thead th {\n",
       "        text-align: right;\n",
       "    }\n",
       "</style>\n",
       "<table border=\"1\" class=\"dataframe\">\n",
       "  <thead>\n",
       "    <tr style=\"text-align: right;\">\n",
       "      <th></th>\n",
       "      <th>Date</th>\n",
       "      <th>NIKKEI</th>\n",
       "      <th>HITACHI</th>\n",
       "      <th>TOSHIBA</th>\n",
       "      <th>MITSUBISHI</th>\n",
       "      <th>NEC</th>\n",
       "      <th>FUJITSU</th>\n",
       "      <th>PANASONIC</th>\n",
       "      <th>SONY</th>\n",
       "    </tr>\n",
       "  </thead>\n",
       "  <tbody>\n",
       "    <tr>\n",
       "      <th>0</th>\n",
       "      <td>200501</td>\n",
       "      <td>11388</td>\n",
       "      <td>688</td>\n",
       "      <td>419</td>\n",
       "      <td>510</td>\n",
       "      <td>594</td>\n",
       "      <td>602</td>\n",
       "      <td>1537</td>\n",
       "      <td>3840</td>\n",
       "    </tr>\n",
       "    <tr>\n",
       "      <th>1</th>\n",
       "      <td>200502</td>\n",
       "      <td>11741</td>\n",
       "      <td>663</td>\n",
       "      <td>460</td>\n",
       "      <td>549</td>\n",
       "      <td>679</td>\n",
       "      <td>688</td>\n",
       "      <td>1565</td>\n",
       "      <td>3990</td>\n",
       "    </tr>\n",
       "    <tr>\n",
       "      <th>2</th>\n",
       "      <td>200503</td>\n",
       "      <td>11669</td>\n",
       "      <td>666</td>\n",
       "      <td>448</td>\n",
       "      <td>555</td>\n",
       "      <td>648</td>\n",
       "      <td>644</td>\n",
       "      <td>1580</td>\n",
       "      <td>4270</td>\n",
       "    </tr>\n",
       "    <tr>\n",
       "      <th>3</th>\n",
       "      <td>200504</td>\n",
       "      <td>11009</td>\n",
       "      <td>620</td>\n",
       "      <td>430</td>\n",
       "      <td>556</td>\n",
       "      <td>578</td>\n",
       "      <td>578</td>\n",
       "      <td>1537</td>\n",
       "      <td>3920</td>\n",
       "    </tr>\n",
       "    <tr>\n",
       "      <th>4</th>\n",
       "      <td>200505</td>\n",
       "      <td>11277</td>\n",
       "      <td>652</td>\n",
       "      <td>445</td>\n",
       "      <td>592</td>\n",
       "      <td>603</td>\n",
       "      <td>597</td>\n",
       "      <td>1622</td>\n",
       "      <td>4060</td>\n",
       "    </tr>\n",
       "  </tbody>\n",
       "</table>\n",
       "</div>"
      ],
      "text/plain": [
       "     Date  NIKKEI  HITACHI  TOSHIBA  MITSUBISHI  NEC  FUJITSU  PANASONIC  SONY\n",
       "0  200501   11388      688      419         510  594      602       1537  3840\n",
       "1  200502   11741      663      460         549  679      688       1565  3990\n",
       "2  200503   11669      666      448         555  648      644       1580  4270\n",
       "3  200504   11009      620      430         556  578      578       1537  3920\n",
       "4  200505   11277      652      445         592  603      597       1622  4060"
      ]
     },
     "metadata": {},
     "output_type": "display_data"
    }
   ],
   "source": [
    "import pandas as pd\n",
    "import matplotlib.pyplot as plt\n",
    "import seaborn as sns\n",
    "csv_in=\"data/stock_price.csv\"\n",
    "df=pd.read_csv(csv_in, skiprows=0, header=0)\n",
    "print(df.shape)\n",
    "print(df.info())\n",
    "display(df.head())"
   ]
  },
  {
   "cell_type": "code",
   "execution_count": 3,
   "id": "d7cc1f20-296e-4d9c-bf2c-9a042f2d6ba3",
   "metadata": {},
   "outputs": [
    {
     "data": {
      "text/html": [
       "<div>\n",
       "<style scoped>\n",
       "    .dataframe tbody tr th:only-of-type {\n",
       "        vertical-align: middle;\n",
       "    }\n",
       "\n",
       "    .dataframe tbody tr th {\n",
       "        vertical-align: top;\n",
       "    }\n",
       "\n",
       "    .dataframe thead th {\n",
       "        text-align: right;\n",
       "    }\n",
       "</style>\n",
       "<table border=\"1\" class=\"dataframe\">\n",
       "  <thead>\n",
       "    <tr style=\"text-align: right;\">\n",
       "      <th></th>\n",
       "      <th>NIKKEI</th>\n",
       "      <th>HITACHI</th>\n",
       "      <th>TOSHIBA</th>\n",
       "      <th>MITSUBISHI</th>\n",
       "      <th>NEC</th>\n",
       "      <th>FUJITSU</th>\n",
       "      <th>PANASONIC</th>\n",
       "      <th>SONY</th>\n",
       "    </tr>\n",
       "  </thead>\n",
       "  <tbody>\n",
       "    <tr>\n",
       "      <th>0</th>\n",
       "      <td>11388</td>\n",
       "      <td>688</td>\n",
       "      <td>419</td>\n",
       "      <td>510</td>\n",
       "      <td>594</td>\n",
       "      <td>602</td>\n",
       "      <td>1537</td>\n",
       "      <td>3840</td>\n",
       "    </tr>\n",
       "    <tr>\n",
       "      <th>1</th>\n",
       "      <td>11741</td>\n",
       "      <td>663</td>\n",
       "      <td>460</td>\n",
       "      <td>549</td>\n",
       "      <td>679</td>\n",
       "      <td>688</td>\n",
       "      <td>1565</td>\n",
       "      <td>3990</td>\n",
       "    </tr>\n",
       "    <tr>\n",
       "      <th>2</th>\n",
       "      <td>11669</td>\n",
       "      <td>666</td>\n",
       "      <td>448</td>\n",
       "      <td>555</td>\n",
       "      <td>648</td>\n",
       "      <td>644</td>\n",
       "      <td>1580</td>\n",
       "      <td>4270</td>\n",
       "    </tr>\n",
       "    <tr>\n",
       "      <th>3</th>\n",
       "      <td>11009</td>\n",
       "      <td>620</td>\n",
       "      <td>430</td>\n",
       "      <td>556</td>\n",
       "      <td>578</td>\n",
       "      <td>578</td>\n",
       "      <td>1537</td>\n",
       "      <td>3920</td>\n",
       "    </tr>\n",
       "    <tr>\n",
       "      <th>4</th>\n",
       "      <td>11277</td>\n",
       "      <td>652</td>\n",
       "      <td>445</td>\n",
       "      <td>592</td>\n",
       "      <td>603</td>\n",
       "      <td>597</td>\n",
       "      <td>1622</td>\n",
       "      <td>4060</td>\n",
       "    </tr>\n",
       "  </tbody>\n",
       "</table>\n",
       "</div>"
      ],
      "text/plain": [
       "   NIKKEI  HITACHI  TOSHIBA  MITSUBISHI  NEC  FUJITSU  PANASONIC  SONY\n",
       "0   11388      688      419         510  594      602       1537  3840\n",
       "1   11741      663      460         549  679      688       1565  3990\n",
       "2   11669      666      448         555  648      644       1580  4270\n",
       "3   11009      620      430         556  578      578       1537  3920\n",
       "4   11277      652      445         592  603      597       1622  4060"
      ]
     },
     "metadata": {},
     "output_type": "display_data"
    }
   ],
   "source": [
    "df_num=df.loc[:,'NIKKEI':\"SONY\"]\n",
    "display(df_num.head())"
   ]
  },
  {
   "cell_type": "code",
   "execution_count": 4,
   "id": "19dd6669-4f9f-4152-921a-1776e7aae0b4",
   "metadata": {},
   "outputs": [
    {
     "data": {
      "text/html": [
       "<div>\n",
       "<style scoped>\n",
       "    .dataframe tbody tr th:only-of-type {\n",
       "        vertical-align: middle;\n",
       "    }\n",
       "\n",
       "    .dataframe tbody tr th {\n",
       "        vertical-align: top;\n",
       "    }\n",
       "\n",
       "    .dataframe thead th {\n",
       "        text-align: right;\n",
       "    }\n",
       "</style>\n",
       "<table border=\"1\" class=\"dataframe\">\n",
       "  <thead>\n",
       "    <tr style=\"text-align: right;\">\n",
       "      <th></th>\n",
       "      <th>NIKKEI</th>\n",
       "      <th>HITACHI</th>\n",
       "      <th>TOSHIBA</th>\n",
       "      <th>MITSUBISHI</th>\n",
       "      <th>NEC</th>\n",
       "      <th>FUJITSU</th>\n",
       "      <th>PANASONIC</th>\n",
       "      <th>SONY</th>\n",
       "    </tr>\n",
       "  </thead>\n",
       "  <tbody>\n",
       "    <tr>\n",
       "      <th>NIKKEI</th>\n",
       "      <td>1.000000</td>\n",
       "      <td>0.820419</td>\n",
       "      <td>0.825605</td>\n",
       "      <td>0.804968</td>\n",
       "      <td>0.621368</td>\n",
       "      <td>0.879986</td>\n",
       "      <td>0.856393</td>\n",
       "      <td>0.907624</td>\n",
       "    </tr>\n",
       "    <tr>\n",
       "      <th>HITACHI</th>\n",
       "      <td>0.820419</td>\n",
       "      <td>1.000000</td>\n",
       "      <td>0.670851</td>\n",
       "      <td>0.655384</td>\n",
       "      <td>0.661257</td>\n",
       "      <td>0.704448</td>\n",
       "      <td>0.788437</td>\n",
       "      <td>0.879052</td>\n",
       "    </tr>\n",
       "    <tr>\n",
       "      <th>TOSHIBA</th>\n",
       "      <td>0.825605</td>\n",
       "      <td>0.670851</td>\n",
       "      <td>1.000000</td>\n",
       "      <td>0.939484</td>\n",
       "      <td>0.255770</td>\n",
       "      <td>0.644309</td>\n",
       "      <td>0.707113</td>\n",
       "      <td>0.842716</td>\n",
       "    </tr>\n",
       "    <tr>\n",
       "      <th>MITSUBISHI</th>\n",
       "      <td>0.804968</td>\n",
       "      <td>0.655384</td>\n",
       "      <td>0.939484</td>\n",
       "      <td>1.000000</td>\n",
       "      <td>0.186838</td>\n",
       "      <td>0.619232</td>\n",
       "      <td>0.700304</td>\n",
       "      <td>0.800375</td>\n",
       "    </tr>\n",
       "    <tr>\n",
       "      <th>NEC</th>\n",
       "      <td>0.621368</td>\n",
       "      <td>0.661257</td>\n",
       "      <td>0.255770</td>\n",
       "      <td>0.186838</td>\n",
       "      <td>1.000000</td>\n",
       "      <td>0.734784</td>\n",
       "      <td>0.579141</td>\n",
       "      <td>0.556657</td>\n",
       "    </tr>\n",
       "    <tr>\n",
       "      <th>FUJITSU</th>\n",
       "      <td>0.879986</td>\n",
       "      <td>0.704448</td>\n",
       "      <td>0.644309</td>\n",
       "      <td>0.619232</td>\n",
       "      <td>0.734784</td>\n",
       "      <td>1.000000</td>\n",
       "      <td>0.874444</td>\n",
       "      <td>0.723135</td>\n",
       "    </tr>\n",
       "    <tr>\n",
       "      <th>PANASONIC</th>\n",
       "      <td>0.856393</td>\n",
       "      <td>0.788437</td>\n",
       "      <td>0.707113</td>\n",
       "      <td>0.700304</td>\n",
       "      <td>0.579141</td>\n",
       "      <td>0.874444</td>\n",
       "      <td>1.000000</td>\n",
       "      <td>0.783069</td>\n",
       "    </tr>\n",
       "    <tr>\n",
       "      <th>SONY</th>\n",
       "      <td>0.907624</td>\n",
       "      <td>0.879052</td>\n",
       "      <td>0.842716</td>\n",
       "      <td>0.800375</td>\n",
       "      <td>0.556657</td>\n",
       "      <td>0.723135</td>\n",
       "      <td>0.783069</td>\n",
       "      <td>1.000000</td>\n",
       "    </tr>\n",
       "  </tbody>\n",
       "</table>\n",
       "</div>"
      ],
      "text/plain": [
       "              NIKKEI   HITACHI   TOSHIBA  MITSUBISHI       NEC   FUJITSU  \\\n",
       "NIKKEI      1.000000  0.820419  0.825605    0.804968  0.621368  0.879986   \n",
       "HITACHI     0.820419  1.000000  0.670851    0.655384  0.661257  0.704448   \n",
       "TOSHIBA     0.825605  0.670851  1.000000    0.939484  0.255770  0.644309   \n",
       "MITSUBISHI  0.804968  0.655384  0.939484    1.000000  0.186838  0.619232   \n",
       "NEC         0.621368  0.661257  0.255770    0.186838  1.000000  0.734784   \n",
       "FUJITSU     0.879986  0.704448  0.644309    0.619232  0.734784  1.000000   \n",
       "PANASONIC   0.856393  0.788437  0.707113    0.700304  0.579141  0.874444   \n",
       "SONY        0.907624  0.879052  0.842716    0.800375  0.556657  0.723135   \n",
       "\n",
       "            PANASONIC      SONY  \n",
       "NIKKEI       0.856393  0.907624  \n",
       "HITACHI      0.788437  0.879052  \n",
       "TOSHIBA      0.707113  0.842716  \n",
       "MITSUBISHI   0.700304  0.800375  \n",
       "NEC          0.579141  0.556657  \n",
       "FUJITSU      0.874444  0.723135  \n",
       "PANASONIC    1.000000  0.783069  \n",
       "SONY         0.783069  1.000000  "
      ]
     },
     "metadata": {},
     "output_type": "display_data"
    }
   ],
   "source": [
    "df_corr=df_num.corr()\n",
    "display(df_corr)"
   ]
  },
  {
   "cell_type": "code",
   "execution_count": 5,
   "id": "93c9143a-84a5-4f66-a982-c45c1815bc91",
   "metadata": {},
   "outputs": [
    {
     "name": "stdout",
     "output_type": "stream",
     "text": [
      "NIKKEI        1.000000\n",
      "HITACHI       0.405419\n",
      "TOSHIBA       0.644665\n",
      "MITSUBISHI    0.631339\n",
      "NEC          -0.326031\n",
      "FUJITSU       0.414795\n",
      "PANASONIC     0.695960\n",
      "SONY          0.779763\n",
      "dtype: float64\n"
     ]
    }
   ],
   "source": [
    "print(df_corr.corrwith(df_corr['NIKKEI']))"
   ]
  },
  {
   "cell_type": "code",
   "execution_count": 6,
   "id": "3ab0e068-a6fd-4484-bb30-2c85bab5839d",
   "metadata": {},
   "outputs": [
    {
     "data": {
      "image/png": "[encoded data removed]",
      "text/plain": [
       "<Figure size 640x480 with 2 Axes>"
      ]
     },
     "metadata": {},
     "output_type": "display_data"
    }
   ],
   "source": [
    "sns.heatmap(df_corr, annot=True)\n",
    "plt.show()"
   ]
  },
  {
   "cell_type": "code",
   "execution_count": 7,
   "id": "a22e45d3-2c14-45c4-9cc7-9498b1f768e3",
   "metadata": {},
   "outputs": [
    {
     "data": {
      "image/png": "[encoded data removed]",
      "text/plain": [
       "<Figure size 640x480 with 1 Axes>"
      ]
     },
     "metadata": {},
     "output_type": "display_data"
    }
   ],
   "source": [
    "plt.scatter(df_num['SONY'], df_num['NIKKEI'])\n",
    "plt.show()"
   ]
  },
  {
   "cell_type": "code",
   "execution_count": 8,
   "id": "c400d4b9-4481-4c0e-821b-e5d273f72fb4",
   "metadata": {},
   "outputs": [
    {
     "data": {
      "text/html": [
       "<div>\n",
       "<style scoped>\n",
       "    .dataframe tbody tr th:only-of-type {\n",
       "        vertical-align: middle;\n",
       "    }\n",
       "\n",
       "    .dataframe tbody tr th {\n",
       "        vertical-align: top;\n",
       "    }\n",
       "\n",
       "    .dataframe thead th {\n",
       "        text-align: right;\n",
       "    }\n",
       "</style>\n",
       "<table border=\"1\" class=\"dataframe\">\n",
       "  <thead>\n",
       "    <tr style=\"text-align: right;\">\n",
       "      <th></th>\n",
       "      <th>SONY</th>\n",
       "    </tr>\n",
       "  </thead>\n",
       "  <tbody>\n",
       "    <tr>\n",
       "      <th>0</th>\n",
       "      <td>3840</td>\n",
       "    </tr>\n",
       "    <tr>\n",
       "      <th>1</th>\n",
       "      <td>3990</td>\n",
       "    </tr>\n",
       "    <tr>\n",
       "      <th>2</th>\n",
       "      <td>4270</td>\n",
       "    </tr>\n",
       "    <tr>\n",
       "      <th>3</th>\n",
       "      <td>3920</td>\n",
       "    </tr>\n",
       "    <tr>\n",
       "      <th>4</th>\n",
       "      <td>4060</td>\n",
       "    </tr>\n",
       "  </tbody>\n",
       "</table>\n",
       "</div>"
      ],
      "text/plain": [
       "   SONY\n",
       "0  3840\n",
       "1  3990\n",
       "2  4270\n",
       "3  3920\n",
       "4  4060"
      ]
     },
     "metadata": {},
     "output_type": "display_data"
    },
    {
     "data": {
      "text/html": [
       "<div>\n",
       "<style scoped>\n",
       "    .dataframe tbody tr th:only-of-type {\n",
       "        vertical-align: middle;\n",
       "    }\n",
       "\n",
       "    .dataframe tbody tr th {\n",
       "        vertical-align: top;\n",
       "    }\n",
       "\n",
       "    .dataframe thead th {\n",
       "        text-align: right;\n",
       "    }\n",
       "</style>\n",
       "<table border=\"1\" class=\"dataframe\">\n",
       "  <thead>\n",
       "    <tr style=\"text-align: right;\">\n",
       "      <th></th>\n",
       "      <th>const</th>\n",
       "      <th>SONY</th>\n",
       "    </tr>\n",
       "  </thead>\n",
       "  <tbody>\n",
       "    <tr>\n",
       "      <th>0</th>\n",
       "      <td>1.0</td>\n",
       "      <td>3840</td>\n",
       "    </tr>\n",
       "    <tr>\n",
       "      <th>1</th>\n",
       "      <td>1.0</td>\n",
       "      <td>3990</td>\n",
       "    </tr>\n",
       "    <tr>\n",
       "      <th>2</th>\n",
       "      <td>1.0</td>\n",
       "      <td>4270</td>\n",
       "    </tr>\n",
       "    <tr>\n",
       "      <th>3</th>\n",
       "      <td>1.0</td>\n",
       "      <td>3920</td>\n",
       "    </tr>\n",
       "    <tr>\n",
       "      <th>4</th>\n",
       "      <td>1.0</td>\n",
       "      <td>4060</td>\n",
       "    </tr>\n",
       "  </tbody>\n",
       "</table>\n",
       "</div>"
      ],
      "text/plain": [
       "   const  SONY\n",
       "0    1.0  3840\n",
       "1    1.0  3990\n",
       "2    1.0  4270\n",
       "3    1.0  3920\n",
       "4    1.0  4060"
      ]
     },
     "metadata": {},
     "output_type": "display_data"
    }
   ],
   "source": [
    "import statsmodels.api as sm\n",
    "X=df_num[['SONY']]\n",
    "y=df_num[['NIKKEI']]\n",
    "X_c=sm.add_constant(X)\n",
    "display(X.head())\n",
    "display(X_c.head())"
   ]
  },
  {
   "cell_type": "code",
   "execution_count": 9,
   "id": "b945533b-cbe1-4621-8555-05c9d176626b",
   "metadata": {},
   "outputs": [
    {
     "name": "stdout",
     "output_type": "stream",
     "text": [
      "                            OLS Regression Results                            \n",
      "==============================================================================\n",
      "Dep. Variable:                 NIKKEI   R-squared:                       0.824\n",
      "Model:                            OLS   Adj. R-squared:                  0.820\n",
      "Method:                 Least Squares   F-statistic:                     215.0\n",
      "Date:                Thu, 01 Jun 2023   Prob (F-statistic):           5.86e-19\n",
      "Time:                        15:56:15   Log-Likelihood:                -403.59\n",
      "No. Observations:                  48   AIC:                             811.2\n",
      "Df Residuals:                      46   BIC:                             814.9\n",
      "Df Model:                           1                                         \n",
      "Covariance Type:            nonrobust                                         \n",
      "==============================================================================\n",
      "                 coef    std err          t      P>|t|      [0.025      0.975]\n",
      "------------------------------------------------------------------------------\n",
      "const       4599.9342    693.300      6.635      0.000    3204.393    5995.475\n",
      "SONY           2.0701      0.141     14.664      0.000       1.786       2.354\n",
      "==============================================================================\n",
      "Omnibus:                        1.571   Durbin-Watson:                   0.425\n",
      "Prob(Omnibus):                  0.456   Jarque-Bera (JB):                1.106\n",
      "Skew:                          -0.017   Prob(JB):                        0.575\n",
      "Kurtosis:                       2.257   Cond. No.                     2.13e+04\n",
      "==============================================================================\n",
      "\n",
      "Notes:\n",
      "[1] Standard Errors assume that the covariance matrix of the errors is correctly specified.\n",
      "[2] The condition number is large, 2.13e+04. This might indicate that there are\n",
      "strong multicollinearity or other numerical problems.\n"
     ]
    }
   ],
   "source": [
    "model=sm.OLS(y,X_c)\n",
    "results=model.fit()\n",
    "print(results.summary())"
   ]
  },
  {
   "cell_type": "code",
   "execution_count": 10,
   "id": "be186b0f-fd12-47de-820e-72716a7d3403",
   "metadata": {},
   "outputs": [
    {
     "name": "stdout",
     "output_type": "stream",
     "text": [
      "0.8199510276303702\n"
     ]
    }
   ],
   "source": [
    "print(results.rsquared_adj)"
   ]
  },
  {
   "cell_type": "code",
   "execution_count": 11,
   "id": "1fc499f4-dd74-42e8-8a59-90e1943659fd",
   "metadata": {},
   "outputs": [
    {
     "name": "stdout",
     "output_type": "stream",
     "text": [
      "const    4599.934179\n",
      "SONY        2.070135\n",
      "dtype: float64\n"
     ]
    }
   ],
   "source": [
    "print(results.params)"
   ]
  },
  {
   "cell_type": "code",
   "execution_count": 12,
   "id": "dd1a350b-a8fc-4e8e-9071-c543d867905f",
   "metadata": {},
   "outputs": [
    {
     "data": {
      "image/png": "[encoded data removed]",
      "text/plain": [
       "<Figure size 640x480 with 1 Axes>"
      ]
     },
     "metadata": {},
     "output_type": "display_data"
    }
   ],
   "source": [
    "import numpy as np\n",
    "a0=results.params['const']\n",
    "a1=results.params['SONY']\n",
    "x_min=X['SONY'].min()\n",
    "x_max=X['SONY'].max()\n",
    "x_min_max=np.array([x_min, x_max])\n",
    "y_min_max=a0+a1*x_min_max\n",
    "plt.scatter(X['SONY'],y)\n",
    "plt.plot(x_min_max, y_min_max, c='red')\n",
    "plt.xlabel('SONY')\n",
    "plt.ylabel('NIKKEI')\n",
    "plt.show()"
   ]
  },
  {
   "cell_type": "code",
   "execution_count": 13,
   "id": "dc86ea3d-22c4-40f1-8a90-649903e2a7fa",
   "metadata": {},
   "outputs": [
    {
     "name": "stdout",
     "output_type": "stream",
     "text": [
      "[10810.33844362]\n"
     ]
    }
   ],
   "source": [
    "x_test=np.array([3000])\n",
    "y_test=a0+a1*x_test\n",
    "print(y_test)"
   ]
  },
  {
   "cell_type": "code",
   "execution_count": null,
   "id": "3a8b24e8-7178-409c-a5b5-964104eb0de1",
   "metadata": {},
   "outputs": [],
   "source": []
  }
 ],
 "metadata": {
  "kernelspec": {
   "display_name": "Python 3 (ipykernel)",
   "language": "python",
   "name": "python3"
  },
  "language_info": {
   "codemirror_mode": {
    "name": "ipython",
    "version": 3
   },
   "file_extension": ".py",
   "mimetype": "text/x-python",
   "name": "python",
   "nbconvert_exporter": "python",
   "pygments_lexer": "ipython3",
   "version": "3.8.16"
  }
 },
 "nbformat": 4,
 "nbformat_minor": 5
}
