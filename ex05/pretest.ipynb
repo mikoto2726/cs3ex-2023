{
 "cells": [
  {
   "cell_type": "code",
   "execution_count": 2,
   "id": "1a539fee-e993-4f75-873a-c1be834f1315",
   "metadata": {},
   "outputs": [
    {
     "name": "stdout",
     "output_type": "stream",
     "text": [
      "(53, 7)\n",
      "      氏名  氏名（ひらがな）  年齢         生年月日      性別 血液型                        メールアドレス\n",
      "0  佐藤 梨恵    さとう りえ  47    1976年1月3日       女  AB           sato_rie@example.org\n",
      "1  川野 英次  かわの ひでつぐ  53  1969年11月27日  その他・不明   B  hidetsugukawano@example.co.jp\n",
      "2  平賀 知世    ひらが ちせ  34    1989年1月9日       女   O     chise_hiraga@example.ne.jp\n",
      "3   小西 剛   こにし つよし  61   1962年1月22日       男   B     tsuyoshikonishi@example.jp\n",
      "4  渡辺 雄二  わたなべ ゆうじ  34   1988年6月20日       男   O      yuujiwatanabe@example.org\n"
     ]
    }
   ],
   "source": [
    "import numpy as np #numpyにnpという別名を付けてimport\n",
    "import pandas as pd #pandasにpdという別名を付けてimport\n",
    "import matplotlib.pyplot as plt #グラフ描画のためのライブラリmatplotlibをimportする\n",
    "\n",
    "csv_in ='cs3ex-quiz03.csv'\n",
    "df = pd.read_csv(csv_in, sep=',', skiprows=0, header=0)\n",
    "print(df.shape)\n",
    "print(df.head())\n"
   ]
  },
  {
   "cell_type": "code",
   "execution_count": 3,
   "id": "fe8e20f2-d2b6-4382-ab35-ee8dff37ce11",
   "metadata": {},
   "outputs": [
    {
     "data": {
      "text/html": [
       "<div>\n",
       "<style scoped>\n",
       "    .dataframe tbody tr th:only-of-type {\n",
       "        vertical-align: middle;\n",
       "    }\n",
       "\n",
       "    .dataframe tbody tr th {\n",
       "        vertical-align: top;\n",
       "    }\n",
       "\n",
       "    .dataframe thead th {\n",
       "        text-align: right;\n",
       "    }\n",
       "</style>\n",
       "<table border=\"1\" class=\"dataframe\">\n",
       "  <thead>\n",
       "    <tr style=\"text-align: right;\">\n",
       "      <th></th>\n",
       "      <th>氏名</th>\n",
       "      <th>氏名（ひらがな）</th>\n",
       "      <th>年齢</th>\n",
       "      <th>生年月日</th>\n",
       "      <th>性別</th>\n",
       "      <th>血液型</th>\n",
       "      <th>メールアドレス</th>\n",
       "    </tr>\n",
       "  </thead>\n",
       "  <tbody>\n",
       "    <tr>\n",
       "      <th>7</th>\n",
       "      <td>矢島 知樹</td>\n",
       "      <td>やじま ともき</td>\n",
       "      <td>76</td>\n",
       "      <td>1946年5月27日</td>\n",
       "      <td>男</td>\n",
       "      <td>O</td>\n",
       "      <td>yajima527@example.jp</td>\n",
       "    </tr>\n",
       "    <tr>\n",
       "      <th>26</th>\n",
       "      <td>佐伯 ナオヤ</td>\n",
       "      <td>さえき なおや</td>\n",
       "      <td>21</td>\n",
       "      <td>2001年8月12日</td>\n",
       "      <td>男</td>\n",
       "      <td>O</td>\n",
       "      <td>saeki812@example.jp</td>\n",
       "    </tr>\n",
       "    <tr>\n",
       "      <th>29</th>\n",
       "      <td>佐伯 ナオヤ</td>\n",
       "      <td>さえき なおや</td>\n",
       "      <td>21</td>\n",
       "      <td>2001年8月12日</td>\n",
       "      <td>男</td>\n",
       "      <td>O</td>\n",
       "      <td>saeki812@example.jp</td>\n",
       "    </tr>\n",
       "    <tr>\n",
       "      <th>36</th>\n",
       "      <td>柳田 遥</td>\n",
       "      <td>やなぎだ はるか</td>\n",
       "      <td>21</td>\n",
       "      <td>2001年9月9日</td>\n",
       "      <td>女</td>\n",
       "      <td>A</td>\n",
       "      <td>yanagida_99@example.jp</td>\n",
       "    </tr>\n",
       "    <tr>\n",
       "      <th>46</th>\n",
       "      <td>柳田 遥</td>\n",
       "      <td>やなぎだ はるか</td>\n",
       "      <td>21</td>\n",
       "      <td>2001年9月9日</td>\n",
       "      <td>女</td>\n",
       "      <td>A</td>\n",
       "      <td>yanagida_99@example.jp</td>\n",
       "    </tr>\n",
       "    <tr>\n",
       "      <th>52</th>\n",
       "      <td>矢島 知樹</td>\n",
       "      <td>やじま ともき</td>\n",
       "      <td>76</td>\n",
       "      <td>1946年5月27日</td>\n",
       "      <td>男</td>\n",
       "      <td>O</td>\n",
       "      <td>yajima527@example.jp</td>\n",
       "    </tr>\n",
       "  </tbody>\n",
       "</table>\n",
       "</div>"
      ],
      "text/plain": [
       "        氏名  氏名（ひらがな）  年齢        生年月日 性別 血液型                 メールアドレス\n",
       "7    矢島 知樹   やじま ともき  76  1946年5月27日  男   O    yajima527@example.jp\n",
       "26  佐伯 ナオヤ   さえき なおや  21  2001年8月12日  男   O     saeki812@example.jp\n",
       "29  佐伯 ナオヤ   さえき なおや  21  2001年8月12日  男   O     saeki812@example.jp\n",
       "36    柳田 遥  やなぎだ はるか  21   2001年9月9日  女   A  yanagida_99@example.jp\n",
       "46    柳田 遥  やなぎだ はるか  21   2001年9月9日  女   A  yanagida_99@example.jp\n",
       "52   矢島 知樹   やじま ともき  76  1946年5月27日  男   O    yajima527@example.jp"
      ]
     },
     "metadata": {},
     "output_type": "display_data"
    }
   ],
   "source": [
    "display(df[df.duplicated(keep=False)])"
   ]
  },
  {
   "cell_type": "code",
   "execution_count": 4,
   "id": "287ceb27-343b-43de-b91d-65a2d9ba89fb",
   "metadata": {},
   "outputs": [],
   "source": [
    "df=df.drop_duplicates()"
   ]
  },
  {
   "cell_type": "code",
   "execution_count": 5,
   "id": "bbe41267-1b5d-43b9-b0e7-b6e85a477148",
   "metadata": {},
   "outputs": [
    {
     "name": "stdout",
     "output_type": "stream",
     "text": [
      "(50, 7)\n"
     ]
    }
   ],
   "source": [
    "print(df.shape)"
   ]
  },
  {
   "cell_type": "code",
   "execution_count": null,
   "id": "863e1883-73ad-4293-8a06-2212f6a9ff47",
   "metadata": {},
   "outputs": [],
   "source": []
  }
 ],
 "metadata": {
  "kernelspec": {
   "display_name": "Python 3 (ipykernel)",
   "language": "python",
   "name": "python3"
  },
  "language_info": {
   "codemirror_mode": {
    "name": "ipython",
    "version": 3
   },
   "file_extension": ".py",
   "mimetype": "text/x-python",
   "name": "python",
   "nbconvert_exporter": "python",
   "pygments_lexer": "ipython3",
   "version": "3.8.16"
  }
 },
 "nbformat": 4,
 "nbformat_minor": 5
}
