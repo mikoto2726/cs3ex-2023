{
 "cells": [
  {
   "cell_type": "code",
   "execution_count": 1,
   "id": "0e2716d1-ddbc-48da-be5f-af915771e6cb",
   "metadata": {},
   "outputs": [],
   "source": [
    "import numpy as np #numpyにnpという別名を付けてimport\n",
    "import pandas as pd #pandasにpdという別名を付けてimport\n",
    "import matplotlib.pyplot as plt #グラフ描画のためのライブラリmatplotlibをimportする"
   ]
  },
  {
   "cell_type": "code",
   "execution_count": 2,
   "id": "88385774-06f1-473f-98be-0ccc0fe3a609",
   "metadata": {},
   "outputs": [
    {
     "name": "stdout",
     "output_type": "stream",
     "text": [
      "(1209, 49)\n",
      "<class 'pandas.core.frame.DataFrame'>\n",
      "RangeIndex: 1209 entries, 0 to 1208\n",
      "Data columns (total 49 columns):\n",
      " #   Column     Non-Null Count  Dtype \n",
      "---  ------     --------------  ----- \n",
      " 0   Date       1209 non-null   object\n",
      " 1   ALL        1209 non-null   int64 \n",
      " 2   Hokkaido   1209 non-null   int64 \n",
      " 3   Aomori     1209 non-null   int64 \n",
      " 4   Iwate      1209 non-null   int64 \n",
      " 5   Miyagi     1209 non-null   int64 \n",
      " 6   Akita      1209 non-null   int64 \n",
      " 7   Yamagata   1209 non-null   int64 \n",
      " 8   Fukushima  1209 non-null   int64 \n",
      " 9   Ibaraki    1209 non-null   int64 \n",
      " 10  Tochigi    1209 non-null   int64 \n",
      " 11  Gunma      1209 non-null   int64 \n",
      " 12  Saitama    1209 non-null   int64 \n",
      " 13  Chiba      1209 non-null   int64 \n",
      " 14  Tokyo      1209 non-null   int64 \n",
      " 15  Kanagawa   1209 non-null   int64 \n",
      " 16  Niigata    1209 non-null   int64 \n",
      " 17  Toyama     1209 non-null   int64 \n",
      " 18  Ishikawa   1209 non-null   int64 \n",
      " 19  Fukui      1209 non-null   int64 \n",
      " 20  Yamanashi  1209 non-null   int64 \n",
      " 21  Nagano     1209 non-null   int64 \n",
      " 22  Gifu       1209 non-null   int64 \n",
      " 23  Shizuoka   1209 non-null   int64 \n",
      " 24  Aichi      1209 non-null   int64 \n",
      " 25  Mie        1209 non-null   int64 \n",
      " 26  Shiga      1209 non-null   int64 \n",
      " 27  Kyoto      1209 non-null   int64 \n",
      " 28  Osaka      1209 non-null   int64 \n",
      " 29  Hyogo      1209 non-null   int64 \n",
      " 30  Nara       1209 non-null   int64 \n",
      " 31  Wakayama   1209 non-null   int64 \n",
      " 32  Tottori    1209 non-null   int64 \n",
      " 33  Shimane    1209 non-null   int64 \n",
      " 34  Okayama    1209 non-null   int64 \n",
      " 35  Hiroshima  1209 non-null   int64 \n",
      " 36  Yamaguchi  1209 non-null   int64 \n",
      " 37  Tokushima  1209 non-null   int64 \n",
      " 38  Kagawa     1209 non-null   int64 \n",
      " 39  Ehime      1209 non-null   int64 \n",
      " 40  Kochi      1209 non-null   int64 \n",
      " 41  Fukuoka    1209 non-null   int64 \n",
      " 42  Saga       1209 non-null   int64 \n",
      " 43  Nagasaki   1209 non-null   int64 \n",
      " 44  Kumamoto   1209 non-null   int64 \n",
      " 45  Oita       1209 non-null   int64 \n",
      " 46  Miyazaki   1209 non-null   int64 \n",
      " 47  Kagoshima  1209 non-null   int64 \n",
      " 48  Okinawa    1209 non-null   int64 \n",
      "dtypes: int64(48), object(1)\n",
      "memory usage: 462.9+ KB\n",
      "None\n",
      "        Date  ALL  Hokkaido  Aomori  Iwate  Miyagi  Akita  Yamagata  \\\n",
      "0  2020/1/16    1         0       0      0       0      0         0   \n",
      "1  2020/1/17    0         0       0      0       0      0         0   \n",
      "2  2020/1/18    0         0       0      0       0      0         0   \n",
      "3  2020/1/19    0         0       0      0       0      0         0   \n",
      "4  2020/1/20    0         0       0      0       0      0         0   \n",
      "\n",
      "   Fukushima  Ibaraki  ...  Ehime  Kochi  Fukuoka  Saga  Nagasaki  Kumamoto  \\\n",
      "0          0        0  ...      0      0        0     0         0         0   \n",
      "1          0        0  ...      0      0        0     0         0         0   \n",
      "2          0        0  ...      0      0        0     0         0         0   \n",
      "3          0        0  ...      0      0        0     0         0         0   \n",
      "4          0        0  ...      0      0        0     0         0         0   \n",
      "\n",
      "   Oita  Miyazaki  Kagoshima  Okinawa  \n",
      "0     0         0          0        0  \n",
      "1     0         0          0        0  \n",
      "2     0         0          0        0  \n",
      "3     0         0          0        0  \n",
      "4     0         0          0        0  \n",
      "\n",
      "[5 rows x 49 columns]\n"
     ]
    }
   ],
   "source": [
    "csv_in='newly_confirmed_cases_daily.csv'\n",
    "df = pd.read_csv(csv_in, sep=',', skiprows=0, header=0)\n",
    "print(df.shape)\n",
    "print(df.info())\n",
    "print(df.head())"
   ]
  },
  {
   "cell_type": "code",
   "execution_count": 3,
   "id": "c6f7a150-0b38-4059-a248-7c442d3ea646",
   "metadata": {},
   "outputs": [],
   "source": [
    "df['Date']=pd.to_datetime(df['Date'])"
   ]
  },
  {
   "cell_type": "code",
   "execution_count": 6,
   "id": "b17fa891-8d01-4842-a8e1-f3ba6a321358",
   "metadata": {},
   "outputs": [
    {
     "data": {
      "image/png": "[encoded data removed]",
      "text/plain": [
       "<Figure size 640x480 with 1 Axes>"
      ]
     },
     "metadata": {},
     "output_type": "display_data"
    }
   ],
   "source": [
    "plt.bar(df.index,df['Date'],label='Date')\n",
    "plt.xlabel('Date',size=12)\n",
    "plt.ylabel('No.of severe cases',size=12)\n",
    "plt.show()"
   ]
  },
  {
   "cell_type": "code",
   "execution_count": null,
   "id": "66c30bb2-5e68-41da-b751-33c4d6b05d18",
   "metadata": {},
   "outputs": [],
   "source": []
  }
 ],
 "metadata": {
  "kernelspec": {
   "display_name": "Python 3 (ipykernel)",
   "language": "python",
   "name": "python3"
  },
  "language_info": {
   "codemirror_mode": {
    "name": "ipython",
    "version": 3
   },
   "file_extension": ".py",
   "mimetype": "text/x-python",
   "name": "python",
   "nbconvert_exporter": "python",
   "pygments_lexer": "ipython3",
   "version": "3.8.16"
  }
 },
 "nbformat": 4,
 "nbformat_minor": 5
}
