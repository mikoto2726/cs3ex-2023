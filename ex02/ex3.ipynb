{
 "cells": [
  {
   "cell_type": "code",
   "execution_count": 7,
   "id": "258909b5-f875-4f85-b42a-ae15eac17306",
   "metadata": {},
   "outputs": [
    {
     "data": {
      "text/html": [
       "<div>\n",
       "<style scoped>\n",
       "    .dataframe tbody tr th:only-of-type {\n",
       "        vertical-align: middle;\n",
       "    }\n",
       "\n",
       "    .dataframe tbody tr th {\n",
       "        vertical-align: top;\n",
       "    }\n",
       "\n",
       "    .dataframe thead th {\n",
       "        text-align: right;\n",
       "    }\n",
       "</style>\n",
       "<table border=\"1\" class=\"dataframe\">\n",
       "  <thead>\n",
       "    <tr style=\"text-align: right;\">\n",
       "      <th></th>\n",
       "      <th>Campus</th>\n",
       "      <th>Male</th>\n",
       "      <th>Female</th>\n",
       "      <th>Sum</th>\n",
       "    </tr>\n",
       "  </thead>\n",
       "  <tbody>\n",
       "    <tr>\n",
       "      <th>0</th>\n",
       "      <td>Hakusan</td>\n",
       "      <td>11204</td>\n",
       "      <td>9199</td>\n",
       "      <td>20403</td>\n",
       "    </tr>\n",
       "    <tr>\n",
       "      <th>1</th>\n",
       "      <td>Kawagoe</td>\n",
       "      <td>3845</td>\n",
       "      <td>858</td>\n",
       "      <td>4703</td>\n",
       "    </tr>\n",
       "    <tr>\n",
       "      <th>2</th>\n",
       "      <td>Itakura</td>\n",
       "      <td>996</td>\n",
       "      <td>865</td>\n",
       "      <td>1861</td>\n",
       "    </tr>\n",
       "    <tr>\n",
       "      <th>3</th>\n",
       "      <td>Akabanedai</td>\n",
       "      <td>2183</td>\n",
       "      <td>1697</td>\n",
       "      <td>3880</td>\n",
       "    </tr>\n",
       "  </tbody>\n",
       "</table>\n",
       "</div>"
      ],
      "text/plain": [
       "       Campus   Male  Female    Sum\n",
       "0     Hakusan  11204    9199  20403\n",
       "1     Kawagoe   3845     858   4703\n",
       "2     Itakura    996     865   1861\n",
       "3  Akabanedai   2183    1697   3880"
      ]
     },
     "metadata": {},
     "output_type": "display_data"
    }
   ],
   "source": [
    "import numpy as np \n",
    "import pandas as pd\n",
    "\n",
    "df = pd.read_csv('Data/toyo_students.csv', sep=',', skiprows=1, header=0)\n",
    "display(df)"
   ]
  },
  {
   "cell_type": "code",
   "execution_count": 9,
   "id": "393bc5b0-1b7f-4c29-8b84-283c3ac31fc0",
   "metadata": {},
   "outputs": [],
   "source": [
    "arr = df.to_numpy"
   ]
  },
  {
   "cell_type": "code",
   "execution_count": 16,
   "id": "e68555c9-5756-4379-8337-8f85ae3bbdbf",
   "metadata": {},
   "outputs": [
    {
     "name": "stdout",
     "output_type": "stream",
     "text": [
      "11204\n"
     ]
    }
   ],
   "source": [
    "print(df.iat[0,1])"
   ]
  },
  {
   "cell_type": "code",
   "execution_count": 18,
   "id": "fb277391-106f-414c-b2f7-7a658793c47e",
   "metadata": {},
   "outputs": [
    {
     "name": "stdout",
     "output_type": "stream",
     "text": [
      "3880\n"
     ]
    }
   ],
   "source": [
    "print(df.iat[3,3])"
   ]
  },
  {
   "cell_type": "code",
   "execution_count": 19,
   "id": "b0ea41e3-ca81-49ec-a7e4-9aac0ffe4439",
   "metadata": {},
   "outputs": [],
   "source": [
    "df.iat[1,1] = 3850"
   ]
  },
  {
   "cell_type": "code",
   "execution_count": 20,
   "id": "49dbd719-2ef9-4382-b087-3c328fb5d5e6",
   "metadata": {},
   "outputs": [],
   "source": [
    "df.iat[1,3] = 4708"
   ]
  },
  {
   "cell_type": "code",
   "execution_count": 21,
   "id": "09e0ecae-355e-43f9-9682-bbdd572221f9",
   "metadata": {},
   "outputs": [
    {
     "data": {
      "text/html": [
       "<div>\n",
       "<style scoped>\n",
       "    .dataframe tbody tr th:only-of-type {\n",
       "        vertical-align: middle;\n",
       "    }\n",
       "\n",
       "    .dataframe tbody tr th {\n",
       "        vertical-align: top;\n",
       "    }\n",
       "\n",
       "    .dataframe thead th {\n",
       "        text-align: right;\n",
       "    }\n",
       "</style>\n",
       "<table border=\"1\" class=\"dataframe\">\n",
       "  <thead>\n",
       "    <tr style=\"text-align: right;\">\n",
       "      <th></th>\n",
       "      <th>Campus</th>\n",
       "      <th>Male</th>\n",
       "      <th>Female</th>\n",
       "      <th>Sum</th>\n",
       "    </tr>\n",
       "  </thead>\n",
       "  <tbody>\n",
       "    <tr>\n",
       "      <th>0</th>\n",
       "      <td>Hakusan</td>\n",
       "      <td>11204</td>\n",
       "      <td>9199</td>\n",
       "      <td>20403</td>\n",
       "    </tr>\n",
       "    <tr>\n",
       "      <th>1</th>\n",
       "      <td>Kawagoe</td>\n",
       "      <td>3850</td>\n",
       "      <td>858</td>\n",
       "      <td>4708</td>\n",
       "    </tr>\n",
       "    <tr>\n",
       "      <th>2</th>\n",
       "      <td>Itakura</td>\n",
       "      <td>996</td>\n",
       "      <td>865</td>\n",
       "      <td>1861</td>\n",
       "    </tr>\n",
       "    <tr>\n",
       "      <th>3</th>\n",
       "      <td>Akabanedai</td>\n",
       "      <td>2183</td>\n",
       "      <td>1697</td>\n",
       "      <td>3880</td>\n",
       "    </tr>\n",
       "  </tbody>\n",
       "</table>\n",
       "</div>"
      ],
      "text/plain": [
       "       Campus   Male  Female    Sum\n",
       "0     Hakusan  11204    9199  20403\n",
       "1     Kawagoe   3850     858   4708\n",
       "2     Itakura    996     865   1861\n",
       "3  Akabanedai   2183    1697   3880"
      ]
     },
     "metadata": {},
     "output_type": "display_data"
    },
    {
     "data": {
      "text/plain": [
       "<bound method DataFrame.to_numpy of        Campus   Male  Female    Sum\n",
       "0     Hakusan  11204    9199  20403\n",
       "1     Kawagoe   3850     858   4708\n",
       "2     Itakura    996     865   1861\n",
       "3  Akabanedai   2183    1697   3880>"
      ]
     },
     "metadata": {},
     "output_type": "display_data"
    }
   ],
   "source": [
    "display(df)\n",
    "display(arr)"
   ]
  },
  {
   "cell_type": "code",
   "execution_count": null,
   "id": "1bbbdef1-5fe8-4904-b3b4-b798509e14dd",
   "metadata": {},
   "outputs": [],
   "source": []
  }
 ],
 "metadata": {
  "kernelspec": {
   "display_name": "Python 3 (ipykernel)",
   "language": "python",
   "name": "python3"
  },
  "language_info": {
   "codemirror_mode": {
    "name": "ipython",
    "version": 3
   },
   "file_extension": ".py",
   "mimetype": "text/x-python",
   "name": "python",
   "nbconvert_exporter": "python",
   "pygments_lexer": "ipython3",
   "version": "3.8.16"
  }
 },
 "nbformat": 4,
 "nbformat_minor": 5
}
