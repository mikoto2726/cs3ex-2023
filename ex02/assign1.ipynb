{
 "cells": [
  {
   "cell_type": "code",
   "execution_count": 14,
   "id": "c04e0331-77df-4877-978a-109f52b581bf",
   "metadata": {},
   "outputs": [
    {
     "name": "stdout",
     "output_type": "stream",
     "text": [
      "<class 'pandas.core.frame.DataFrame'>\n",
      "RangeIndex: 229 entries, 0 to 228\n",
      "Data columns (total 6 columns):\n",
      " #   Column           Non-Null Count  Dtype  \n",
      "---  ------           --------------  -----  \n",
      " 0   Place of origin  229 non-null    object \n",
      " 1   Listening        229 non-null    float64\n",
      " 2   Reading          229 non-null    float64\n",
      " 3   Writing          229 non-null    float64\n",
      " 4   Speaking         229 non-null    float64\n",
      " 5   Overall          229 non-null    float64\n",
      "dtypes: float64(5), object(1)\n",
      "memory usage: 10.9+ KB\n"
     ]
    },
    {
     "data": {
      "text/plain": [
       "None"
      ]
     },
     "metadata": {},
     "output_type": "display_data"
    }
   ],
   "source": [
    "import pandas as pd\n",
    "df = pd.read_csv('Data/ielts_performance.csv', sep=';', skiprows=0, header=0)\n",
    "display(df.info())"
   ]
  },
  {
   "cell_type": "code",
   "execution_count": 26,
   "id": "59fbcb89-b002-4f43-850a-c2e27b17e41f",
   "metadata": {},
   "outputs": [
    {
     "name": "stdout",
     "output_type": "stream",
     "text": [
      "(209, 8)\n",
      "<class 'pandas.core.frame.DataFrame'>\n",
      "RangeIndex: 209 entries, 0 to 208\n",
      "Data columns (total 8 columns):\n",
      " #   Column  Non-Null Count  Dtype\n",
      "---  ------  --------------  -----\n",
      " 0   0       209 non-null    int64\n",
      " 1   1       209 non-null    int64\n",
      " 2   2       209 non-null    int64\n",
      " 3   3       209 non-null    int64\n",
      " 4   4       209 non-null    int64\n",
      " 5   5       209 non-null    int64\n",
      " 6   6       209 non-null    int64\n",
      " 7   7       209 non-null    int64\n",
      "dtypes: int64(8)\n",
      "memory usage: 13.2 KB\n"
     ]
    },
    {
     "data": {
      "text/plain": [
       "None"
      ]
     },
     "metadata": {},
     "output_type": "display_data"
    }
   ],
   "source": [
    "df1 = pd.read_csv('Data/machine_data.csv', sep=',', skiprows=34, header=None)\n",
    "print(df1.shape)\n",
    "display(df1.info())"
   ]
  },
  {
   "cell_type": "code",
   "execution_count": null,
   "id": "c596524d-8d39-4647-b15c-5c7532766f95",
   "metadata": {},
   "outputs": [],
   "source": []
  }
 ],
 "metadata": {
  "kernelspec": {
   "display_name": "Python 3 (ipykernel)",
   "language": "python",
   "name": "python3"
  },
  "language_info": {
   "codemirror_mode": {
    "name": "ipython",
    "version": 3
   },
   "file_extension": ".py",
   "mimetype": "text/x-python",
   "name": "python",
   "nbconvert_exporter": "python",
   "pygments_lexer": "ipython3",
   "version": "3.8.16"
  }
 },
 "nbformat": 4,
 "nbformat_minor": 5
}
