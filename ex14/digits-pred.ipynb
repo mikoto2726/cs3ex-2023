{
 "cells": [
  {
   "cell_type": "markdown",
   "metadata": {},
   "source": [
    "### Prediction for given image files  "
   ]
  },
  {
   "cell_type": "markdown",
   "metadata": {},
   "source": [
    "#### Import libraries  "
   ]
  },
  {
   "cell_type": "code",
   "execution_count": 12,
   "metadata": {},
   "outputs": [],
   "source": [
    "import os, glob\n",
    "import numpy as np\n",
    "from PIL import Image\n",
    "from tensorflow.keras.utils import to_categorical\n",
    "from tensorflow.keras.models import load_model"
   ]
  },
  {
   "cell_type": "markdown",
   "metadata": {},
   "source": [
    "#### Parameters   "
   ]
  },
  {
   "cell_type": "code",
   "execution_count": 13,
   "metadata": {},
   "outputs": [],
   "source": [
    "w=28\n",
    "work_dir='data/digits'\n",
    "image_dir=os.path.join(work_dir, 'original', 'unknown')\n",
    "pred_dir=os.path.join(work_dir, 'predicted')\n",
    "results_base='digits-results'\n",
    "model_file=\"digits-model-w{}.h5\".format(w)\n",
    "classes=list(range(10))\n",
    "num_classes=len(classes)"
   ]
  },
  {
   "cell_type": "markdown",
   "metadata": {},
   "source": [
    "#### Read model file  "
   ]
  },
  {
   "cell_type": "code",
   "execution_count": 14,
   "metadata": {},
   "outputs": [],
   "source": [
    "model=load_model(model_file)"
   ]
  },
  {
   "cell_type": "markdown",
   "metadata": {},
   "source": [
    "#### Execute prediction for each image file  "
   ]
  },
  {
   "cell_type": "code",
   "execution_count": 15,
   "metadata": {},
   "outputs": [
    {
     "name": "stdout",
     "output_type": "stream",
     "text": [
      "data/digits\\predicted\\0-.pred_as_0-w28.jpg [[9.9995899e-01 5.8009708e-11 3.9617335e-05 2.1830560e-09 1.2254945e-13\n",
      "  1.5963469e-10 1.1842928e-07 4.4826451e-10 8.6484437e-07 5.0124862e-07]]\n",
      "data/digits\\predicted\\1.pred_as_1-w28.jpg [[1.3624101e-07 9.9966943e-01 2.6147673e-04 9.7733277e-07 1.4529006e-06\n",
      "  2.1574701e-06 2.9389636e-05 1.3953260e-06 3.3523804e-05 3.9969422e-08]]\n",
      "data/digits\\predicted\\2.pred_as_2-w28.jpg [[4.41815580e-08 1.76576996e-05 9.99981999e-01 4.07441405e-08\n",
      "  1.07411516e-13 3.18808313e-10 7.03235603e-09 1.12320320e-09\n",
      "  3.20052294e-07 5.74419982e-12]]\n",
      "data/digits\\predicted\\3.pred_as_5-w28.jpg [[1.7659115e-02 1.2775493e-02 1.6215891e-02 3.0853891e-01 1.9386460e-05\n",
      "  6.2913519e-01 5.9277103e-05 3.3520707e-03 1.1618712e-02 6.2596885e-04]]\n",
      "data/digits\\predicted\\4.pred_as_4-w28.jpg [[4.1890116e-06 5.5026226e-07 6.6645781e-04 2.0474827e-08 8.2890064e-01\n",
      "  3.0764893e-06 1.7042300e-01 1.6237677e-06 7.4016754e-08 3.9737148e-07]]\n",
      "data/digits\\predicted\\5.pred_as_5-w28.jpg [[8.8546832e-09 3.6130252e-10 4.5600785e-09 1.3056300e-05 4.1131278e-07\n",
      "  9.9993980e-01 5.6248643e-07 6.0707243e-06 2.0474670e-07 3.9989289e-05]]\n",
      "data/digits\\predicted\\6.pred_as_5-w28.jpg [[3.1449155e-05 2.0826750e-08 1.0535136e-06 3.8072936e-05 1.8894313e-02\n",
      "  7.3189157e-01 2.4289353e-01 1.2483069e-07 7.9143847e-06 6.2419339e-03]]\n",
      "data/digits\\predicted\\7.pred_as_7-w28.jpg [[2.4288653e-04 1.4823479e-07 8.5007298e-07 8.2326475e-09 1.7650242e-08\n",
      "  1.8427879e-07 6.0412703e-11 9.9973661e-01 1.2871556e-07 1.9130812e-05]]\n",
      "data/digits\\predicted\\8.pred_as_8-w28.jpg [[1.9460666e-01 1.2223731e-04 2.0948658e-02 2.0500734e-01 3.9955121e-06\n",
      "  5.2430312e-04 1.6419182e-05 5.5030663e-03 5.7195014e-01 1.3172370e-03]]\n",
      "data/digits\\predicted\\9.pred_as_4-w28.jpg [[2.6482229e-07 2.4374792e-08 3.2672449e-07 1.8576465e-08 9.7149324e-01\n",
      "  5.0916509e-07 1.4225797e-05 1.7748023e-07 2.0283660e-06 2.8489226e-02]]\n",
      "OK\n"
     ]
    }
   ],
   "source": [
    "# Open file to save results  \n",
    "results_file='{}-w{}.csv'.format(results_base, w)\n",
    "res=open(results_file,'w')\n",
    "res.write(\"file,{},{}\\n\".format(classes[0], classes[1]))\n",
    "\n",
    "# Delete old output files one by one\n",
    "pred_pat=os.path.join(pred_dir, '*.jpg')\n",
    "files=glob.glob(pred_pat)\n",
    "for f in files:\n",
    "    os.remove(f)\n",
    "\n",
    "# Prediction for each image file  \n",
    "image_pat=os.path.join(image_dir, '*.*')\n",
    "files=glob.glob(image_pat)\n",
    "for f in files:\n",
    "    img=Image.open(f)\n",
    "    img=img.convert('L')\n",
    "    img=img.resize((w,w))\n",
    "    # reshape to 4-d (1*w*w*3) ndarray (float16)\n",
    "    X_pred=np.array(img).reshape(1,w,w,1).astype('float16')\n",
    "    X_pred/=255\n",
    "    # Prediction\n",
    "    pred=model.predict(X_pred, verbose=0)\n",
    "    # Output\n",
    "    pred_ans=pred.argmax(axis=1)\n",
    "    pred_cls=classes[pred_ans[0]]\n",
    "    base=os.path.basename(f)\n",
    "    base_root=os.path.splitext(base)[0]\n",
    "    tag='pred_as_{}-w{}'.format(pred_cls, w)\n",
    "    img_file='{}.{}.jpg'.format(base_root, tag)\n",
    "    img_path=os.path.join(pred_dir, img_file)\n",
    "    img.save(img_path)\n",
    "    print(img_path, pred)\n",
    "    res.write(\"{},{},{}\\n\".format(f, pred[0, 0], pred[0, 1]))\n",
    "\n",
    "# Close file for the results\n",
    "res.close()\n",
    "\n",
    "print(\"OK\")"
   ]
  },
  {
   "cell_type": "code",
   "execution_count": null,
   "metadata": {},
   "outputs": [],
   "source": []
  }
 ],
 "metadata": {
  "kernelspec": {
   "display_name": "Python 3 (ipykernel)",
   "language": "python",
   "name": "python3"
  },
  "language_info": {
   "codemirror_mode": {
    "name": "ipython",
    "version": 3
   },
   "file_extension": ".py",
   "mimetype": "text/x-python",
   "name": "python",
   "nbconvert_exporter": "python",
   "pygments_lexer": "ipython3",
   "version": "3.8.16"
  }
 },
 "nbformat": 4,
 "nbformat_minor": 4
}
