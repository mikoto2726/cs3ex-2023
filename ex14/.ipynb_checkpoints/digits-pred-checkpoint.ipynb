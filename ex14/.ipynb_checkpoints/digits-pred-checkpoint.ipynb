{
 "cells": [
  {
   "cell_type": "markdown",
   "metadata": {},
   "source": [
    "### Prediction for given image files  "
   ]
  },
  {
   "cell_type": "markdown",
   "metadata": {},
   "source": [
    "#### Import libraries  "
   ]
  },
  {
   "cell_type": "code",
   "execution_count": null,
   "metadata": {},
   "outputs": [],
   "source": [
    "import os, glob\n",
    "import numpy as np\n",
    "from PIL import Image\n",
    "from tensorflow.keras.utils import to_categorical\n",
    "from tensorflow.keras.models import load_model"
   ]
  },
  {
   "cell_type": "markdown",
   "metadata": {},
   "source": [
    "#### Parameters   "
   ]
  },
  {
   "cell_type": "code",
   "execution_count": null,
   "metadata": {},
   "outputs": [],
   "source": [
    "w=56\n",
    "work_dir='data/dogs_cats'\n",
    "image_dir=os.path.join(work_dir, 'original', 'unknown')\n",
    "pred_dir=os.path.join(work_dir, 'predicted')\n",
    "results_base='dogs_cats-results'\n",
    "model_file=\"dogs_cats-model-w{}.h5\".format(w)\n",
    "classes=['cats', 'dogs']\n",
    "num_classes=len(classes)"
   ]
  },
  {
   "cell_type": "markdown",
   "metadata": {},
   "source": [
    "#### Read model file  "
   ]
  },
  {
   "cell_type": "code",
   "execution_count": null,
   "metadata": {},
   "outputs": [],
   "source": [
    "model=load_model(model_file)"
   ]
  },
  {
   "cell_type": "markdown",
   "metadata": {},
   "source": [
    "#### Execute prediction for each image file  "
   ]
  },
  {
   "cell_type": "code",
   "execution_count": null,
   "metadata": {},
   "outputs": [],
   "source": [
    "# Open file to save results  \n",
    "results_file='{}-w{}.csv'.format(results_base, w)\n",
    "res=open(results_file,'w')\n",
    "res.write(\"file,{},{}\\n\".format(classes[0], classes[1]))\n",
    "\n",
    "# Delete old output files one by one\n",
    "pred_pat=os.path.join(pred_dir, '*.jpg')\n",
    "files=glob.glob(pred_pat)\n",
    "for f in files:\n",
    "    os.remove(f)\n",
    "\n",
    "# Prediction for each image file  \n",
    "image_pat=os.path.join(image_dir, '*.*')\n",
    "files=glob.glob(image_pat)\n",
    "for f in files:\n",
    "    img=Image.open(f)\n",
    "    img=img.convert('RGB')\n",
    "    img=img.resize((w,w))\n",
    "    # reshape to 4-d (1*w*w*3) ndarray (float16)\n",
    "    X_pred=np.array(img).reshape(1,w,w,3).astype('float16')\n",
    "    X_pred/=255\n",
    "    # Prediction\n",
    "    pred=model.predict(X_pred, verbose=0)\n",
    "    # Output\n",
    "    pred_ans=pred.argmax(axis=1)\n",
    "    pred_cls=classes[pred_ans[0]]\n",
    "    base=os.path.basename(f)\n",
    "    base_root=os.path.splitext(base)[0]\n",
    "    tag='pred_as_{}-w{}'.format(pred_cls, w)\n",
    "    img_file='{}.{}.jpg'.format(base_root, tag)\n",
    "    img_path=os.path.join(pred_dir, img_file)\n",
    "    img.save(img_path)\n",
    "    print(img_path, pred)\n",
    "    res.write(\"{},{},{}\\n\".format(f, pred[0, 0], pred[0, 1]))\n",
    "\n",
    "# Close file for the results\n",
    "res.close()\n",
    "\n",
    "print(\"OK\")"
   ]
  },
  {
   "cell_type": "code",
   "execution_count": null,
   "metadata": {},
   "outputs": [],
   "source": []
  }
 ],
 "metadata": {
  "kernelspec": {
   "display_name": "Python 3 (ipykernel)",
   "language": "python",
   "name": "python3"
  },
  "language_info": {
   "codemirror_mode": {
    "name": "ipython",
    "version": 3
   },
   "file_extension": ".py",
   "mimetype": "text/x-python",
   "name": "python",
   "nbconvert_exporter": "python",
   "pygments_lexer": "ipython3",
   "version": "3.8.16"
  }
 },
 "nbformat": 4,
 "nbformat_minor": 4
}
