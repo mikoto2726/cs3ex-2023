{
 "cells": [
  {
   "cell_type": "code",
   "execution_count": 2,
   "id": "994a43be-668e-402f-acec-478702b45e44",
   "metadata": {},
   "outputs": [
    {
     "name": "stdout",
     "output_type": "stream",
     "text": [
      "0    25.0\n",
      "1    30.0\n",
      "dtype: float64\n"
     ]
    }
   ],
   "source": [
    "import pandas as pd\n",
    "\n",
    "data = {'A': [10, 15],\n",
    "        'B': [20, 25],\n",
    "        'C': [30, 35],\n",
    "        'D': [40, 45]}\n",
    "\n",
    "df = pd.DataFrame(data)\n",
    "\n",
    "row_means = df.mean(axis=1)\n",
    "print(row_means)\n",
    " "
   ]
  },
  {
   "cell_type": "code",
   "execution_count": null,
   "id": "6850ccf8-7bf0-412f-8e4d-016a89e36c6f",
   "metadata": {},
   "outputs": [],
   "source": []
  }
 ],
 "metadata": {
  "kernelspec": {
   "display_name": "Python 3 (ipykernel)",
   "language": "python",
   "name": "python3"
  },
  "language_info": {
   "codemirror_mode": {
    "name": "ipython",
    "version": 3
   },
   "file_extension": ".py",
   "mimetype": "text/x-python",
   "name": "python",
   "nbconvert_exporter": "python",
   "pygments_lexer": "ipython3",
   "version": "3.8.16"
  }
 },
 "nbformat": 4,
 "nbformat_minor": 5
}
