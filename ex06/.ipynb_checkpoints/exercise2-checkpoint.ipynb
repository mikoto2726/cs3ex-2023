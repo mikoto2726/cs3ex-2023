{
 "cells": [
  {
   "cell_type": "code",
   "execution_count": 9,
   "id": "61ca39ea-ea84-4d15-9f55-625bcf8b3d1c",
   "metadata": {},
   "outputs": [
    {
     "name": "stdout",
     "output_type": "stream",
     "text": [
      "(272, 2)\n",
      "<class 'pandas.core.frame.DataFrame'>\n",
      "Int64Index: 272 entries, 1 to 272\n",
      "Data columns (total 2 columns):\n",
      " #   Column     Non-Null Count  Dtype  \n",
      "---  ------     --------------  -----  \n",
      " 0   eruptions  272 non-null    float64\n",
      " 1   waiting    272 non-null    int64  \n",
      "dtypes: float64(1), int64(1)\n",
      "memory usage: 6.4 KB\n",
      "None\n",
      "   eruptions  waiting\n",
      "1      3.600       79\n",
      "2      1.800       54\n",
      "3      3.333       74\n",
      "4      2.283       62\n",
      "5      4.533       85\n"
     ]
    }
   ],
   "source": [
    "import numpy as np #numpyにnpという別名を付けてimport\n",
    "import pandas as pd #pandasにpdという別名を付けてimport\n",
    "import matplotlib.pyplot as plt #グラフ描画のためのライブラリmatplotlibをimportする\n",
    "df=pd.read_table('data/faithful.dat', sep='\\s+', skiprows=25, header=0)\n",
    "print(df.shape)\n",
    "print(df.info())\n",
    "print(df.head())"
   ]
  },
  {
   "cell_type": "code",
   "execution_count": null,
   "id": "c4a64469-368e-430b-8e8d-fb0045c11c8f",
   "metadata": {},
   "outputs": [],
   "source": []
  }
 ],
 "metadata": {
  "kernelspec": {
   "display_name": "Python 3 (ipykernel)",
   "language": "python",
   "name": "python3"
  },
  "language_info": {
   "codemirror_mode": {
    "name": "ipython",
    "version": 3
   },
   "file_extension": ".py",
   "mimetype": "text/x-python",
   "name": "python",
   "nbconvert_exporter": "python",
   "pygments_lexer": "ipython3",
   "version": "3.8.16"
  }
 },
 "nbformat": 4,
 "nbformat_minor": 5
}
