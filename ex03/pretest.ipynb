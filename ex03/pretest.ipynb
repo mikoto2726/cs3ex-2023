{
 "cells": [
  {
   "cell_type": "code",
   "execution_count": null,
   "id": "4d3a4f04-83fc-4ec9-bd8e-f9a5bc292f93",
   "metadata": {},
   "outputs": [],
   "source": [
    "import pandas as pd\n",
    "df = pd.read_csv('quiz03.csv', sep=',', skiprows=2, header=None)\n",
    "df.columns = [\"prefecture\",\"population\"]\n",
    "display(df)"
   ]
  }
 ],
 "metadata": {
  "kernelspec": {
   "display_name": "Python 3 (ipykernel)",
   "language": "python",
   "name": "python3"
  },
  "language_info": {
   "codemirror_mode": {
    "name": "ipython",
    "version": 3
   },
   "file_extension": ".py",
   "mimetype": "text/x-python",
   "name": "python",
   "nbconvert_exporter": "python",
   "pygments_lexer": "ipython3",
   "version": "3.8.16"
  }
 },
 "nbformat": 4,
 "nbformat_minor": 5
}
