{
 "cells": [
  {
   "cell_type": "code",
   "execution_count": 8,
   "id": "d00e9441-b476-45bf-bdcc-b56574f678c3",
   "metadata": {},
   "outputs": [
    {
     "data": {
      "image/png": "[encoded data removed]",
      "text/plain": [
       "<Figure size 640x480 with 1 Axes>"
      ]
     },
     "metadata": {},
     "output_type": "display_data"
    }
   ],
   "source": [
    "import numpy as np\n",
    "import matplotlib.pyplot as plt\n",
    "from PIL import Image\n",
    "nd_c = np.zeros((13, 4, 3)).astype('uint8')\n",
    "nd_c[1:3, :] = 255 \n",
    "nd_c[4:6, :, 0] = 255\n",
    "nd_c[7:9, :, 1] = 255\n",
    "nd_c[10:12, :, 2] = 255\n",
    "img_c = Image.fromarray(nd_c)\n",
    "plt.imshow(img_c)\n",
    "plt.show()"
   ]
  },
  {
   "cell_type": "code",
   "execution_count": null,
   "id": "803881d4-1a14-44e9-b340-7fae15c219d3",
   "metadata": {},
   "outputs": [],
   "source": []
  }
 ],
 "metadata": {
  "kernelspec": {
   "display_name": "Python 3 (ipykernel)",
   "language": "python",
   "name": "python3"
  },
  "language_info": {
   "codemirror_mode": {
    "name": "ipython",
    "version": 3
   },
   "file_extension": ".py",
   "mimetype": "text/x-python",
   "name": "python",
   "nbconvert_exporter": "python",
   "pygments_lexer": "ipython3",
   "version": "3.8.16"
  }
 },
 "nbformat": 4,
 "nbformat_minor": 5
}
