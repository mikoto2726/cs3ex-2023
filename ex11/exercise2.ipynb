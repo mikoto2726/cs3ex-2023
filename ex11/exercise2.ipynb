{
 "cells": [
  {
   "cell_type": "code",
   "execution_count": 1,
   "id": "a6f7a00a-0882-475b-8713-be3eacca4f0b",
   "metadata": {},
   "outputs": [],
   "source": [
    "from keras.models import Sequential\n",
    "from keras.layers import Dense\n",
    "\n",
    "# モデルを作成\n",
    "model = Sequential()\n",
    "\n",
    "# 入力層2、中間層6を追加（活性化関数はReLU）\n",
    "model.add(Dense(6, input_dim=2, activation='relu'))\n",
    "\n",
    "# 出力層1を追加（活性化関数はシグモイド）\n",
    "model.add(Dense(1, activation='sigmoid'))"
   ]
  },
  {
   "cell_type": "code",
   "execution_count": 2,
   "id": "58e352ca-c7da-48b7-a27b-40826390846d",
   "metadata": {},
   "outputs": [],
   "source": [
    "from keras.models import Sequential\n",
    "from keras.layers import Dense\n",
    "\n",
    "# モデルの初期化\n",
    "model = Sequential()\n",
    "\n",
    "# 入力層\n",
    "model.add(Dense(5, input_dim=3, activation='relu'))\n",
    "\n",
    "# 中間層\n",
    "model.add(Dense(5, activation='relu'))\n",
    "model.add(Dense(2, activation='relu'))\n",
    "\n",
    "# 出力層\n",
    "model.add(Dense(1, activation='sigmoid'))\n",
    "\n",
    "# モデルのコンパイル\n",
    "model.compile(loss='binary_crossentropy', optimizer='adam')"
   ]
  },
  {
   "cell_type": "code",
   "execution_count": null,
   "id": "64c17552-7618-467e-ac46-ad202564cfc9",
   "metadata": {},
   "outputs": [],
   "source": []
  }
 ],
 "metadata": {
  "kernelspec": {
   "display_name": "Python 3 (ipykernel)",
   "language": "python",
   "name": "python3"
  },
  "language_info": {
   "codemirror_mode": {
    "name": "ipython",
    "version": 3
   },
   "file_extension": ".py",
   "mimetype": "text/x-python",
   "name": "python",
   "nbconvert_exporter": "python",
   "pygments_lexer": "ipython3",
   "version": "3.8.16"
  }
 },
 "nbformat": 4,
 "nbformat_minor": 5
}
